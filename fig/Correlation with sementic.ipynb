{
 "cells": [
  {
   "cell_type": "code",
   "execution_count": 8,
   "id": "b0e675d0-19cd-4af4-a06b-36b7cbfffee7",
   "metadata": {},
   "outputs": [
    {
     "name": "stderr",
     "output_type": "stream",
     "text": [
      "/local/huzaifa/jupytervenv/lib/python3.11/site-packages/tqdm/auto.py:21: TqdmWarning: IProgress not found. Please update jupyter and ipywidgets. See https://ipywidgets.readthedocs.io/en/stable/user_install.html\n",
      "  from .autonotebook import tqdm as notebook_tqdm\n"
     ]
    }
   ],
   "source": [
    "import os\n",
    "import torch\n",
    "import sys\n",
    "\n",
    "sys.path.append(\"/\".join(os.getcwd().split(\"/\")[:-1]))\n",
    "from common import *\n",
    "\n",
    "os.environ[\"CUDA_VISIBLE_DEVICES\"] = \"0\"\n",
    "device = 'cuda' if torch.cuda.is_available() else 'cpu'\n",
    "\n",
    "model_name = 'llama3-8b' #'opt-6.7b'\n",
    "checkpoint_path = '../models/llama3-8b' #'../models/opt-6.7b'"
   ]
  },
  {
   "cell_type": "markdown",
   "id": "4316aff0-e31f-4f23-8da4-30e35fc60ae8",
   "metadata": {},
   "source": [
    "# Step1：Load Model"
   ]
  },
  {
   "cell_type": "code",
   "execution_count": 9,
   "id": "3678b401-4c4d-4e0b-b22d-e84ae18995fa",
   "metadata": {
    "tags": []
   },
   "outputs": [
    {
     "name": "stderr",
     "output_type": "stream",
     "text": [
      "Loading checkpoint shards: 100%|██████████| 4/4 [00:01<00:00,  2.46it/s]\n"
     ]
    }
   ],
   "source": [
    "from transformers import OPTForCausalLM,AutoModelForCausalLM\n",
    "from transformers import AutoTokenizer\n",
    "\n",
    "model = AutoModelForCausalLM.from_pretrained(checkpoint_path, device_map=device, torch_dtype=torch.float16)\n",
    "tokenizer = AutoTokenizer.from_pretrained(checkpoint_path, device_map=device)"
   ]
  },
  {
   "cell_type": "markdown",
   "id": "d29e9d7b-7b2e-4d4d-8563-ab4f2e7749a3",
   "metadata": {},
   "source": [
    "# Step2：Core Neurons similarity evaluation"
   ]
  },
  {
   "cell_type": "code",
   "execution_count": null,
   "id": "332ed6fb-6d18-4b82-98ff-19fdc8413b6b",
   "metadata": {},
   "outputs": [],
   "source": [
    "import torch\n",
    "import re\n",
    "import numpy as np\n",
    "import matplotlib.pyplot as plt\n",
    "\n",
    "# model.cuda()\n",
    "token_sparsity = 0.2\n",
    "sparsity = 0.4\n",
    "\n",
    "def activation_similarity(sentence1,sentence2):\n",
    "    data = [sentence1,sentence2]\n",
    "    Layer_num = 25\n",
    "\n",
    "    activations, SEN_F = get_sentence_core_neurons(model_name, model, tokenizer, data, Layer_num, device, token_sparsity, sparsity)\n",
    "\n",
    "    similarity=len(np.intersect1d(SEN_F[0], SEN_F[1]))/len(SEN_F[1])\n",
    "    return similarity\n",
    "\n",
    "\n"
   ]
  },
  {
   "cell_type": "markdown",
   "id": "ce928b5b-9d88-4772-93c0-3c75c2a5024a",
   "metadata": {},
   "source": [
    "# Step4: Pearson Correlation Coefficient on STS-B"
   ]
  },
  {
   "cell_type": "code",
   "execution_count": 11,
   "id": "654c1992-e47e-414c-8e0a-6ccac112161b",
   "metadata": {},
   "outputs": [
    {
     "name": "stdout",
     "output_type": "stream",
     "text": [
      "Dataset Info:\n",
      "DatasetDict({\n",
      "    train: Dataset({\n",
      "        features: ['split', 'genre', 'dataset', 'year', 'sid', 'score', 'sentence1', 'sentence2'],\n",
      "        num_rows: 5749\n",
      "    })\n",
      "    validation: Dataset({\n",
      "        features: ['split', 'genre', 'dataset', 'year', 'sid', 'score', 'sentence1', 'sentence2'],\n",
      "        num_rows: 1500\n",
      "    })\n",
      "    test: Dataset({\n",
      "        features: ['split', 'genre', 'dataset', 'year', 'sid', 'score', 'sentence1', 'sentence2'],\n",
      "        num_rows: 1379\n",
      "    })\n",
      "})\n"
     ]
    }
   ],
   "source": [
    "from datasets import load_dataset\n",
    "dataset = load_dataset('mteb/stsbenchmark-sts')\n",
    "\n",
    "print(\"Dataset Info:\")\n",
    "print(dataset)"
   ]
  },
  {
   "cell_type": "code",
   "execution_count": null,
   "id": "74eb8510-c901-4dbc-9034-b6d352a60dba",
   "metadata": {},
   "outputs": [],
   "source": [
    "sim_all=[]\n",
    "true_all=[]\n",
    "data=dataset['validation']\n",
    "\n",
    "for i in range(len(data)):\n",
    "    sentence1 = dataset['validation'][i]['sentence1']\n",
    "    sentence2 = dataset['validation'][i]['sentence2']\n",
    "    act_sim = activation_similarity(sentence1,sentence2)\n",
    "    true_sim = dataset['validation'][i]['score']\n",
    "    sim_all.append(act_sim)\n",
    "    true_all.append(true_sim)\n",
    "    "
   ]
  },
  {
   "cell_type": "code",
   "execution_count": 34,
   "id": "8a299db3-220f-45a0-b3a4-6751ab20b4c2",
   "metadata": {},
   "outputs": [
    {
     "name": "stdout",
     "output_type": "stream",
     "text": [
      "Spearman correlation: 0.5874475337292442\n",
      "P-value: 7.283538395503928e-140\n"
     ]
    }
   ],
   "source": [
    "from scipy.stats import spearmanr\n",
    "\n",
    "correlation, p_value = spearmanr(sim_all, true_all)\n",
    "print(f\"Spearman correlation: {correlation}\")\n",
    "print(f\"P-value: {p_value}\")"
   ]
  },
  {
   "cell_type": "code",
   "execution_count": null,
   "id": "feb91d7b-4932-491b-82c5-4a9578435e6d",
   "metadata": {},
   "outputs": [],
   "source": []
  },
  {
   "cell_type": "code",
   "execution_count": null,
   "id": "2d9a14c4-93e4-4394-b3e9-268ed80fb10c",
   "metadata": {},
   "outputs": [],
   "source": []
  },
  {
   "cell_type": "code",
   "execution_count": null,
   "id": "0fd70ac3-94b9-4073-8364-a7ab1ef08c36",
   "metadata": {},
   "outputs": [],
   "source": []
  },
  {
   "cell_type": "markdown",
   "id": "a06d1178-47e7-4068-96db-a544447fbd25",
   "metadata": {},
   "source": [
    "# Step4: Pearson Correlation Coefficient on Sick"
   ]
  },
  {
   "cell_type": "code",
   "execution_count": 5,
   "id": "fa1bd8da-4faa-4016-b357-d407be46e7d3",
   "metadata": {},
   "outputs": [
    {
     "name": "stdout",
     "output_type": "stream",
     "text": [
      "Dataset Info:\n",
      "DatasetDict({\n",
      "    train: Dataset({\n",
      "        features: ['pair_ID', 'sentence_A', 'sentence_B', 'entailment_label', 'relatedness_score', 'entailment_AB', 'entailment_BA', 'sentence_A_original', 'sentence_B_original', 'sentence_A_dataset', 'sentence_B_dataset', 'SemEval_set', 'label', 'label_seq2seq'],\n",
      "        num_rows: 4439\n",
      "    })\n",
      "    validation: Dataset({\n",
      "        features: ['pair_ID', 'sentence_A', 'sentence_B', 'entailment_label', 'relatedness_score', 'entailment_AB', 'entailment_BA', 'sentence_A_original', 'sentence_B_original', 'sentence_A_dataset', 'sentence_B_dataset', 'SemEval_set', 'label', 'label_seq2seq'],\n",
      "        num_rows: 495\n",
      "    })\n",
      "    test: Dataset({\n",
      "        features: ['pair_ID', 'sentence_A', 'sentence_B', 'entailment_label', 'relatedness_score', 'entailment_AB', 'entailment_BA', 'sentence_A_original', 'sentence_B_original', 'sentence_A_dataset', 'sentence_B_dataset', 'SemEval_set', 'label', 'label_seq2seq'],\n",
      "        num_rows: 4906\n",
      "    })\n",
      "})\n"
     ]
    }
   ],
   "source": [
    "from datasets import load_dataset\n",
    "dataset = load_dataset( 'maximedb/sick_nl')\n",
    "\n",
    "print(\"Dataset Info:\")\n",
    "print(dataset)"
   ]
  },
  {
   "cell_type": "code",
   "execution_count": null,
   "id": "e3b15c42-df99-4ebe-a5ca-1ff3cca7cde4",
   "metadata": {},
   "outputs": [],
   "source": [
    "sim_all=[]\n",
    "true_all=[]\n",
    "data=dataset['validation']\n",
    "\n",
    "for i in range(len(data)):\n",
    "    sentence1 = dataset['validation'][i]['sentence_A']\n",
    "    sentence2 = dataset['validation'][i]['sentence_B']\n",
    "    act_sim=activation_similarity(sentence1,sentence2)\n",
    "    true_sim=dataset['validation'][i]['relatedness_score']\n",
    "    sim_all.append(act_sim)\n",
    "    true_all.append(true_sim)"
   ]
  },
  {
   "cell_type": "code",
   "execution_count": 8,
   "id": "7dccd90f-e929-4be5-b281-14269c584839",
   "metadata": {},
   "outputs": [
    {
     "name": "stdout",
     "output_type": "stream",
     "text": [
      "Spearman correlation: 0.3683946806722181\n",
      "P-value: 2.3418180334252915e-17\n"
     ]
    }
   ],
   "source": [
    "from scipy.stats import spearmanr\n",
    "\n",
    "correlation, p_value = spearmanr(sim_all, true_all)\n",
    "print(f\"Spearman correlation: {correlation}\")\n",
    "print(f\"P-value: {p_value}\")"
   ]
  },
  {
   "cell_type": "code",
   "execution_count": null,
   "id": "583d2bd5-edd3-4140-ae88-adaa72f9ed3b",
   "metadata": {},
   "outputs": [],
   "source": []
  }
 ],
 "metadata": {
  "kernelspec": {
   "display_name": "jupytervenv",
   "language": "python",
   "name": "python3"
  },
  "language_info": {
   "codemirror_mode": {
    "name": "ipython",
    "version": 3
   },
   "file_extension": ".py",
   "mimetype": "text/x-python",
   "name": "python",
   "nbconvert_exporter": "python",
   "pygments_lexer": "ipython3",
   "version": "3.11.2"
  }
 },
 "nbformat": 4,
 "nbformat_minor": 5
}

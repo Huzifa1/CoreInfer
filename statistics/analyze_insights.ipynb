{
 "cells": [
  {
   "cell_type": "code",
   "execution_count": 12,
   "metadata": {},
   "outputs": [
    {
     "name": "stdout",
     "output_type": "stream",
     "text": [
      "triviaqa: Avg in top 40%: 76.64544450258737\n",
      "squadv2: Avg in top 40%: 78.13390313390312\n",
      "wmt16-de-en: Avg in top 40%: 73.88074888074888\n",
      "wmt16-ro-en: Avg in top 40%: 73.94615966044537\n",
      "xsum: Avg in top 40%: 88.88162102447816\n",
      "cnn_dailymail: Avg in top 40%: 89.48630734345019\n"
     ]
    }
   ],
   "source": [
    "import json\n",
    "\n",
    "# file1_path = \"../neurons/llama3-3b_model_neurons.json\"\n",
    "# file1_path = \"../neurons/cnn_dailymail_dataset_neurons.json\"\n",
    "file1_path = \"../neurons/summarize.json\"\n",
    "for dataset in [\"triviaqa\", \"squadv2\", \"wmt16-de-en\", \"wmt16-ro-en\", \"xsum\", \"cnn_dailymail\"]:\n",
    "    file2_path = f\"../neurons/{dataset}_dataset_neurons.json\"\n",
    "\n",
    "    with open(file1_path, \"r\") as f:\n",
    "        file1_neurons = json.load(f)[\"neurons\"]\n",
    "        \n",
    "    with open(file2_path, \"r\") as f:\n",
    "        file2_neurons = json.load(f)[\"neurons\"]\n",
    "        \n",
    "    for top_n in [0.4]: # , 0.2, 0.3, 0.4, 0.5, 0.6, 0.7, 0.8, 0.9\n",
    "        sum_overlap = []\n",
    "        for layer_nb in range(6, 27):\n",
    "            file1_layer_neurons = file1_neurons[layer_nb]\n",
    "            file2_layer_neurons = file2_neurons[layer_nb]\n",
    "            \n",
    "            # top_n = 0.3\n",
    "            n = int(len(file1_layer_neurons) * top_n)\n",
    "            first_40_file1 = set(file1_layer_neurons[:n])\n",
    "            first_40_file2 = set(file2_layer_neurons[:n])\n",
    "            overlap = first_40_file1 & first_40_file2\n",
    "            percent_overlap = len(overlap) / min(len(first_40_file1), len(first_40_file2)) * 100\n",
    "            sum_overlap.append(percent_overlap)\n",
    "            # print(f\"Layer {layer_nb}: {percent_overlap:.2f}% overlap in first {int(top_n*100)}%\")\n",
    "            \n",
    "        print(f\"{dataset}: Avg in top {int(top_n*100)}%: {sum(sum_overlap) / len(sum_overlap)}\")"
   ]
  },
  {
   "cell_type": "markdown",
   "metadata": {},
   "source": [
    "# Insight: Task Specific Neurons"
   ]
  },
  {
   "cell_type": "markdown",
   "metadata": {},
   "source": [
    "### Prove that they exist for each different task"
   ]
  },
  {
   "cell_type": "code",
   "execution_count": 27,
   "metadata": {},
   "outputs": [
    {
     "name": "stdout",
     "output_type": "stream",
     "text": [
      "piqa: Avg in top 40%: 58.64585150299437\n",
      "wmt16-de-en: Avg in top 40%: 65.84830513401941\n",
      "cnn_dailymail: Avg in top 40%: 69.54910169195884\n"
     ]
    }
   ],
   "source": [
    "import json\n",
    "\n",
    "datasets_common_indices = []\n",
    "for dataset in [\"piqa\", \"wmt16-de-en\", \"cnn_dailymail\"]:\n",
    "    neurons = []\n",
    "    for i in range(0, 10):\n",
    "        file_path = f\"./insights_files/neurons_files/{dataset}/{i}.json\"\n",
    "        with open(file_path, \"r\") as f:\n",
    "            n = json.load(f)[\"neurons\"]\n",
    "            neurons.append(n)\n",
    "        \n",
    "    for top_n in [0.4]: # , 0.2, 0.3, 0.4, 0.5, 0.6, 0.7, 0.8, 0.9\n",
    "        sum_overlap = []\n",
    "        for layer_nb in range(6, 27):\n",
    "            top_neurons_all = []\n",
    "            for neurons_file in neurons:\n",
    "                file_layer_neurons = neurons_file[layer_nb]\n",
    "                \n",
    "                n = int(len(file_layer_neurons) * top_n)\n",
    "                first_n_file = set(file_layer_neurons[:n])\n",
    "                top_neurons_all.append(first_n_file)\n",
    "                \n",
    "            common_indices = set.intersection(*top_neurons_all)\n",
    "            datasets_common_indices.append(common_indices)\n",
    "            avg_set_size = sum(len(s) for s in top_neurons_all) / len(top_neurons_all)\n",
    "            overlap_percentage = (len(common_indices) / avg_set_size) * 100\n",
    "            \n",
    "            sum_overlap.append(overlap_percentage)\n",
    "            # print(f\"Layer {layer_nb}: {overlap_percentage:.2f}% overlap in first {int(top_n*100)}%\")\n",
    "            \n",
    "        print(f\"{dataset}: Avg in top {int(top_n*100)}%: {sum(sum_overlap) / len(sum_overlap)}\")"
   ]
  },
  {
   "cell_type": "markdown",
   "metadata": {},
   "source": [
    "### Prove that they are different for each task"
   ]
  },
  {
   "cell_type": "code",
   "execution_count": 35,
   "metadata": {},
   "outputs": [
    {
     "name": "stdout",
     "output_type": "stream",
     "text": [
      "0.2438153532262178\n",
      "0.25347912524850896\n",
      "0.2588568729333963\n"
     ]
    }
   ],
   "source": [
    "new_set = datasets_common_indices[0] & datasets_common_indices[1]\n",
    "print(len(new_set) / ((len(datasets_common_indices[0]) + len(datasets_common_indices[1])) / 2))\n",
    "\n",
    "new_set = datasets_common_indices[0] & datasets_common_indices[2]\n",
    "print(len(new_set) / ((len(datasets_common_indices[0]) + len(datasets_common_indices[2])) / 2))\n",
    "\n",
    "new_set = datasets_common_indices[3] & datasets_common_indices[2]\n",
    "print(len(new_set) / ((len(datasets_common_indices[3]) + len(datasets_common_indices[2])) / 2))"
   ]
  }
 ],
 "metadata": {
  "kernelspec": {
   "display_name": ".venv (3.11.2)",
   "language": "python",
   "name": "python3"
  },
  "language_info": {
   "codemirror_mode": {
    "name": "ipython",
    "version": 3
   },
   "file_extension": ".py",
   "mimetype": "text/x-python",
   "name": "python",
   "nbconvert_exporter": "python",
   "pygments_lexer": "ipython3",
   "version": "3.11.2"
  }
 },
 "nbformat": 4,
 "nbformat_minor": 2
}

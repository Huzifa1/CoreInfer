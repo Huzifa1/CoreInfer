{
 "cells": [
  {
   "cell_type": "code",
   "execution_count": 11,
   "metadata": {},
   "outputs": [
    {
     "name": "stdout",
     "output_type": "stream",
     "text": [
      "Model: llama3-3b \n",
      "\n",
      "Comparing model neurons with dataset-specific neurons:\n",
      "triviaqa: 76.64%\n",
      "squadv2: 78.14%\n",
      "wmt16-de-en: 77.41%\n",
      "wmt16-ro-en: 76.55%\n",
      "xsum: 77.71%\n",
      "cnn_dailymail: 78.89%\n",
      "\n",
      "Comparing dataset-specific neurons with each other:\n",
      "triviaqa vs squadv2: 90.91%\n",
      "triviaqa vs wmt16-de-en: 71.07%\n",
      "triviaqa vs wmt16-ro-en: 71.63%\n",
      "triviaqa vs xsum: 75.73%\n",
      "triviaqa vs cnn_dailymail: 76.52%\n",
      "squadv2 vs triviaqa: 90.91%\n",
      "squadv2 vs wmt16-de-en: 71.92%\n",
      "squadv2 vs wmt16-ro-en: 72.41%\n",
      "squadv2 vs xsum: 76.72%\n",
      "squadv2 vs cnn_dailymail: 78.27%\n",
      "wmt16-de-en vs triviaqa: 71.07%\n",
      "wmt16-de-en vs squadv2: 71.92%\n",
      "wmt16-de-en vs wmt16-ro-en: 79.36%\n",
      "wmt16-de-en vs xsum: 73.11%\n",
      "wmt16-de-en vs cnn_dailymail: 73.25%\n",
      "wmt16-ro-en vs triviaqa: 71.63%\n",
      "wmt16-ro-en vs squadv2: 72.41%\n",
      "wmt16-ro-en vs wmt16-de-en: 79.36%\n",
      "wmt16-ro-en vs xsum: 73.08%\n",
      "wmt16-ro-en vs cnn_dailymail: 73.24%\n",
      "xsum vs triviaqa: 75.73%\n",
      "xsum vs squadv2: 76.72%\n",
      "xsum vs wmt16-de-en: 73.11%\n",
      "xsum vs wmt16-ro-en: 73.08%\n",
      "xsum vs cnn_dailymail: 88.84%\n",
      "cnn_dailymail vs triviaqa: 76.52%\n",
      "cnn_dailymail vs squadv2: 78.27%\n",
      "cnn_dailymail vs wmt16-de-en: 73.25%\n",
      "cnn_dailymail vs wmt16-ro-en: 73.24%\n",
      "cnn_dailymail vs xsum: 88.84%\n",
      "\n",
      "==================================================\n",
      "\n",
      "Model: opt-6.7b \n",
      "\n",
      "Comparing model neurons with dataset-specific neurons:\n",
      "triviaqa: 70.09%\n",
      "squadv2: 72.06%\n",
      "wmt16-de-en: 67.78%\n",
      "wmt16-ro-en: 69.02%\n",
      "xsum: 60.45%\n",
      "cnn_dailymail: 61.30%\n",
      "\n",
      "Comparing dataset-specific neurons with each other:\n",
      "triviaqa vs squadv2: 86.94%\n",
      "triviaqa vs wmt16-de-en: 63.17%\n",
      "triviaqa vs wmt16-ro-en: 65.00%\n",
      "triviaqa vs xsum: 59.18%\n",
      "triviaqa vs cnn_dailymail: 60.92%\n",
      "squadv2 vs triviaqa: 86.94%\n",
      "squadv2 vs wmt16-de-en: 62.34%\n",
      "squadv2 vs wmt16-ro-en: 64.44%\n",
      "squadv2 vs xsum: 60.19%\n",
      "squadv2 vs cnn_dailymail: 62.86%\n",
      "wmt16-de-en vs triviaqa: 63.17%\n",
      "wmt16-de-en vs squadv2: 62.34%\n",
      "wmt16-de-en vs wmt16-ro-en: 76.07%\n",
      "wmt16-de-en vs xsum: 58.34%\n",
      "wmt16-de-en vs cnn_dailymail: 57.53%\n",
      "wmt16-ro-en vs triviaqa: 65.00%\n",
      "wmt16-ro-en vs squadv2: 64.44%\n",
      "wmt16-ro-en vs wmt16-de-en: 76.07%\n",
      "wmt16-ro-en vs xsum: 61.21%\n",
      "wmt16-ro-en vs cnn_dailymail: 60.56%\n",
      "xsum vs triviaqa: 59.18%\n",
      "xsum vs squadv2: 60.19%\n",
      "xsum vs wmt16-de-en: 58.34%\n",
      "xsum vs wmt16-ro-en: 61.21%\n",
      "xsum vs cnn_dailymail: 82.73%\n",
      "cnn_dailymail vs triviaqa: 60.92%\n",
      "cnn_dailymail vs squadv2: 62.86%\n",
      "cnn_dailymail vs wmt16-de-en: 57.53%\n",
      "cnn_dailymail vs wmt16-ro-en: 60.56%\n",
      "cnn_dailymail vs xsum: 82.73%\n",
      "\n",
      "==================================================\n",
      "\n"
     ]
    }
   ],
   "source": [
    "import json\n",
    "\n",
    "def check_overlap(file1_path, file2_path, label):\n",
    "    with open(file1_path, \"r\") as f:\n",
    "        file1_neurons = json.load(f)[\"neurons\"]\n",
    "        \n",
    "    with open(file2_path, \"r\") as f:\n",
    "        file2_neurons = json.load(f)[\"neurons\"]\n",
    "        \n",
    "    for top_n in [0.4]: # , 0.2, 0.3, 0.4, 0.5, 0.6, 0.7, 0.8, 0.9\n",
    "        sum_overlap = []\n",
    "        for layer_nb in range(6, 27):\n",
    "            file1_layer_neurons = file1_neurons[layer_nb]\n",
    "            file2_layer_neurons = file2_neurons[layer_nb]\n",
    "            \n",
    "            # top_n = 0.3\n",
    "            n = int(len(file1_layer_neurons) * top_n)\n",
    "            first_40_file1 = set(file1_layer_neurons[:n])\n",
    "            first_40_file2 = set(file2_layer_neurons[:n])\n",
    "            overlap = first_40_file1 & first_40_file2\n",
    "            percent_overlap = len(overlap) / min(len(first_40_file1), len(first_40_file2)) * 100\n",
    "            sum_overlap.append(percent_overlap)\n",
    "            # print(f\"Layer {layer_nb}: {percent_overlap:.2f}% overlap in first {int(top_n*100)}%\")\n",
    "            \n",
    "        print(f\"{label}: {(sum(sum_overlap) / len(sum_overlap)):.2f}%\")\n",
    "\n",
    "for model_name in [\"llama3-3b\", \"opt-6.7b\"]:\n",
    "    print(\"Model:\", model_name, \"\\n\")\n",
    "    \n",
    "    print(\"Comparing model neurons with dataset-specific neurons:\")\n",
    "    file1_path = f\"../neurons_files/{model_name}/model_neurons.json\"\n",
    "    for dataset in [\"triviaqa\", \"squadv2\", \"wmt16-de-en\", \"wmt16-ro-en\", \"xsum\", \"cnn_dailymail\"]:\n",
    "        file2_path = f\"../neurons_files/{model_name}/{dataset}_dataset_neurons.json\"\n",
    "        check_overlap(file1_path, file2_path, dataset)\n",
    "    \n",
    "    print(\"\\nComparing dataset-specific neurons with each other:\")\n",
    "    for dataset1 in [\"triviaqa\", \"squadv2\", \"wmt16-de-en\", \"wmt16-ro-en\", \"xsum\", \"cnn_dailymail\"]:\n",
    "        file1_path = f\"../neurons_files/{model_name}/{dataset1}_dataset_neurons.json\"\n",
    "        for dataset2 in [\"triviaqa\", \"squadv2\", \"wmt16-de-en\", \"wmt16-ro-en\", \"xsum\", \"cnn_dailymail\"]:\n",
    "            if dataset1 == dataset2:\n",
    "                continue\n",
    "            \n",
    "            file2_path = f\"../neurons_files/{model_name}/{dataset2}_dataset_neurons.json\"\n",
    "            check_overlap(file1_path, file2_path, f\"{dataset1} vs {dataset2}\")\n",
    "            \n",
    "    print(\"\\n\" + \"=\"*50 + \"\\n\")"
   ]
  },
  {
   "cell_type": "markdown",
   "metadata": {},
   "source": [
    "# Insight: Task Specific Neurons"
   ]
  },
  {
   "cell_type": "markdown",
   "metadata": {},
   "source": [
    "### Prove that they exist for each different task"
   ]
  },
  {
   "cell_type": "code",
   "execution_count": 27,
   "metadata": {},
   "outputs": [
    {
     "name": "stdout",
     "output_type": "stream",
     "text": [
      "piqa: Avg in top 40%: 58.64585150299437\n",
      "wmt16-de-en: Avg in top 40%: 65.84830513401941\n",
      "cnn_dailymail: Avg in top 40%: 69.54910169195884\n"
     ]
    }
   ],
   "source": [
    "import json\n",
    "\n",
    "datasets_common_indices = []\n",
    "for dataset in [\"piqa\", \"wmt16-de-en\", \"cnn_dailymail\"]:\n",
    "    neurons = []\n",
    "    for i in range(0, 10):\n",
    "        file_path = f\"./insights_files/neurons_files/{dataset}/{i}.json\"\n",
    "        with open(file_path, \"r\") as f:\n",
    "            n = json.load(f)[\"neurons\"]\n",
    "            neurons.append(n)\n",
    "        \n",
    "    for top_n in [0.4]: # , 0.2, 0.3, 0.4, 0.5, 0.6, 0.7, 0.8, 0.9\n",
    "        sum_overlap = []\n",
    "        for layer_nb in range(6, 27):\n",
    "            top_neurons_all = []\n",
    "            for neurons_file in neurons:\n",
    "                file_layer_neurons = neurons_file[layer_nb]\n",
    "                \n",
    "                n = int(len(file_layer_neurons) * top_n)\n",
    "                first_n_file = set(file_layer_neurons[:n])\n",
    "                top_neurons_all.append(first_n_file)\n",
    "                \n",
    "            common_indices = set.intersection(*top_neurons_all)\n",
    "            datasets_common_indices.append(common_indices)\n",
    "            avg_set_size = sum(len(s) for s in top_neurons_all) / len(top_neurons_all)\n",
    "            overlap_percentage = (len(common_indices) / avg_set_size) * 100\n",
    "            \n",
    "            sum_overlap.append(overlap_percentage)\n",
    "            # print(f\"Layer {layer_nb}: {overlap_percentage:.2f}% overlap in first {int(top_n*100)}%\")\n",
    "            \n",
    "        print(f\"{dataset}: Avg in top {int(top_n*100)}%: {sum(sum_overlap) / len(sum_overlap)}\")"
   ]
  },
  {
   "cell_type": "markdown",
   "metadata": {},
   "source": [
    "### Prove that they are different for each task"
   ]
  },
  {
   "cell_type": "code",
   "execution_count": 35,
   "metadata": {},
   "outputs": [
    {
     "name": "stdout",
     "output_type": "stream",
     "text": [
      "0.2438153532262178\n",
      "0.25347912524850896\n",
      "0.2588568729333963\n"
     ]
    }
   ],
   "source": [
    "new_set = datasets_common_indices[0] & datasets_common_indices[1]\n",
    "print(len(new_set) / ((len(datasets_common_indices[0]) + len(datasets_common_indices[1])) / 2))\n",
    "\n",
    "new_set = datasets_common_indices[0] & datasets_common_indices[2]\n",
    "print(len(new_set) / ((len(datasets_common_indices[0]) + len(datasets_common_indices[2])) / 2))\n",
    "\n",
    "new_set = datasets_common_indices[3] & datasets_common_indices[2]\n",
    "print(len(new_set) / ((len(datasets_common_indices[3]) + len(datasets_common_indices[2])) / 2))"
   ]
  }
 ],
 "metadata": {
  "kernelspec": {
   "display_name": ".venv (3.11.2)",
   "language": "python",
   "name": "python3"
  },
  "language_info": {
   "codemirror_mode": {
    "name": "ipython",
    "version": 3
   },
   "file_extension": ".py",
   "mimetype": "text/x-python",
   "name": "python",
   "nbconvert_exporter": "python",
   "pygments_lexer": "ipython3",
   "version": "3.11.2"
  }
 },
 "nbformat": 4,
 "nbformat_minor": 2
}
